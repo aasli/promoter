{
 "cells": [
  {
   "cell_type": "markdown",
   "metadata": {},
   "source": [
    "## CDC42"
   ]
  },
  {
   "cell_type": "markdown",
   "metadata": {},
   "source": [
    "### 18.08.24\n",
    "- with strain 2788\n",
    "- conditioned media\n",
    "- [aTc]= 60ng/mL\n",
    "- dilution 150.000 cells per mL\n",
    "\n",
    "\n",
    "<img src=\"plots/august18/180824_wash&arrest/2788.jpeg\" height=600 width=400 align= left>\n",
    "<img src=\"plots/august18/180824_wash&arrest/2788_atc.jpeg\" height=600 width=400>\n",
    "<img src=\"plots/august18/180824_wash&arrest/2781.jpeg\" height=600 width=400 align= left>\n",
    "<img src=\"plots/august18/180824_wash&arrest/2769Nstaved.jpeg\" height=600 width=400>\n",
    "<img src=\"plots/august18/180824_wash&arrest/2769.jpeg\" height=600 width=400 align= left>\n",
    "\n",
    "\n",
    "\n",
    "<img src=\"plots/august18/180824_wash&arrest/size/2788.jpeg\" height=600 width=400 align= left>\n",
    "<img src=\"plots/august18/180824_wash&arrest/size/2788_atc.jpeg\" height=600 width=400>\n",
    "<img src=\"plots/august18/180824_wash&arrest/size/2781.jpeg\" height=600 width=400 align= left>\n",
    "<img src=\"plots/august18/180824_wash&arrest/size/2769Nstaved.jpeg\" height=600 width=400>\n",
    "<img src=\"plots/august18/180824_wash&arrest/size/2769.jpeg\" height=600 width=400 align= left>\n",
    "\n",
    "\n",
    "==============================================================================================================\n",
    "\n",
    "<br/>**mKate-MYO1**\n",
    "<br/>time point 21h <br/>\n",
    "<br/>images=<br/>\n",
    "cdc42(-aTc), cdc42(+aTc)<br/>\n",
    "parent\n",
    "\n",
    "<img src=\"microscope images/august18/180824_wash&arrest/21h/2788_0_myo1.jpg\" height=600 width=400 align=left>\n",
    "<img src=\"microscope images/august18/180824_wash&arrest/21h/2788_60_myo1.jpg\" height=600 width=400 >\n",
    "<img src=\"microscope images/august18/180824_wash&arrest/21h/2769_myo1.jpg\" height=600 width=400 align=left>\n",
    "\n",
    "<br/>\n",
    "\n",
    "==============================================================================================================\n",
    "\n",
    "**mKoK-WHI5**\n",
    "<br/>time point 21h <br/>\n",
    "<br/>images=<br/>\n",
    "cdc42(-aTc), cdc42(+aTc)<br/>\n",
    "parent\n",
    "\n",
    "<img src=\"microscope images/august18/180824_wash&arrest/21h/2788_0_whi5.jpg\" height=600 width=400 align=left>\n",
    "<img src=\"microscope images/august18/180824_wash&arrest/21h/2788_60_whi5.jpg\" height=600 width=400 >\n",
    "<img src=\"microscope images/august18/180824_wash&arrest/21h/2769_whi5.jpg\" height=600 width=400 align=left>\n",
    "\n",
    "\n"
   ]
  },
  {
   "cell_type": "markdown",
   "metadata": {},
   "source": [
    "## RAD53"
   ]
  },
  {
   "cell_type": "markdown",
   "metadata": {},
   "source": [
    "### 18.08.24\n",
    "- dose R with 2782, no time course\n",
    "- cells grown in the same [aTc] o/n (from plate), then diluted into the same [aTc] and grown for another 8h.\n",
    "\n",
    "<img src=\"plots/august18/180824_wash&arrest/2782.jpeg\" height=600 width=400 align=left>\n",
    "<img src=\"plots/august18/180824_wash&arrest/size/2782.jpeg\" height=600 width=400>\n",
    "\n",
    "<img src=\"plots/august18/180824_wash&arrest/2781.jpeg\" height=600 width=400 align= left>\n",
    "<img src=\"plots/august18/180824_wash&arrest/2769Nstaved.jpeg\" height=600 width=400>\n",
    "\n",
    "**mKate-MYO1**\n",
    "<br/>[aTc]= <br/>0,5<br/>10,20<br/>50,100<br/>200,600<br/>\n",
    "\n",
    "<img src=\"microscope images/august18/180824_rad53/0atc-myo1.jpg\" height=600 width=400 align=left>\n",
    "<img src=\"microscope images/august18/180824_rad53/5atc-myo1.jpg\" height=600 width=400 >\n",
    "<img src=\"microscope images/august18/180824_rad53/10atc-myo1.jpg\" height=600 width=400 align=left>\n",
    "<img src=\"microscope images/august18/180824_rad53/20atc-myo1.jpg\" height=600 width=400 >\n",
    "<img src=\"microscope images/august18/180824_rad53/50atc-myo1.jpg\" height=600 width=400 align=left>\n",
    "<img src=\"microscope images/august18/180824_rad53/100atc-myo1.jpg\" height=600 width=400 >\n",
    "<img src=\"microscope images/august18/180824_rad53/200atc-myo1.jpg\" height=600 width=400 align=left>\n",
    "<img src=\"microscope images/august18/180824_rad53/600atc-myo1.jpg\" height=600 width=400 >\n",
    "\n",
    "<br/>\n",
    "**mKoK-WHI5**\n",
    "<br/>[aTc]= <br/>0,5<br/>10,20<br/>50,100<br/>200,600<br/>\n",
    "<img src=\"microscope images/august18/180824_rad53/0atc-whi5.jpg\" height=600 width=400 align=left>\n",
    "<img src=\"microscope images/august18/180824_rad53/5atc-whi5.jpg\" height=600 width=400 >\n",
    "<img src=\"microscope images/august18/180824_rad53/10atc-whi5.jpg\" height=600 width=400 align=left>\n",
    "<img src=\"microscope images/august18/180824_rad53/20atc-whi5.jpg\" height=600 width=400 >\n",
    "<img src=\"microscope images/august18/180824_rad53/50atc-whi5.jpg\" height=600 width=400 align=left>\n",
    "<img src=\"microscope images/august18/180824_rad53/100atc-whi5.jpg\" height=600 width=400 >\n",
    "<img src=\"microscope images/august18/180824_rad53/200atc-whi5.jpg\" height=600 width=400 align=left>\n",
    "<img src=\"microscope images/august18/180824_rad53/600atc-whi5.jpg\" height=600 width=400 >"
   ]
  }
 ],
 "metadata": {
  "kernelspec": {
   "display_name": "Python 3",
   "language": "python",
   "name": "python3"
  },
  "language_info": {
   "codemirror_mode": {
    "name": "ipython",
    "version": 3
   },
   "file_extension": ".py",
   "mimetype": "text/x-python",
   "name": "python",
   "nbconvert_exporter": "python",
   "pygments_lexer": "ipython3",
   "version": "3.6.0"
  }
 },
 "nbformat": 4,
 "nbformat_minor": 2
}
